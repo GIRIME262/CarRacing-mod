{
 "cells": [
  {
   "cell_type": "code",
   "execution_count": null,
   "metadata": {},
   "outputs": [],
   "source": [
    "# create a NEW python 3(.6) dev environment\n",
    "# activate your dev environment"
   ]
  },
  {
   "cell_type": "code",
   "execution_count": null,
   "metadata": {},
   "outputs": [],
   "source": [
    "#install open.ai gym as your world representation\n",
    "pip install gym   #basic for initial tests\n",
    "\n",
    "# if running any AMD Processor on an Win10 20.04 or above installation, downgrade numpy to the undocummented version 1.19.3\n",
    "# please google the reasons for it!!!\n",
    "pip install numpy==1.19.3\n",
    "\n",
    "# complete the installation of box2D\n",
    "\n",
    "#on Linux\n",
    "pip install 'gym[box2d]'  #all dependencies for CarRacing\n",
    "#on Win10\n",
    "conda install -c conda-forge box2d-py "
   ]
  },
  {
   "cell_type": "code",
   "execution_count": null,
   "metadata": {},
   "outputs": [],
   "source": [
    "# installing stable-baselines as RL tool\n",
    "#sudo apt-get update && sudo apt-get install cmake libopenmpi-dev python3-dev zlib1g-dev\n",
    "pip install stable-baselines\n",
    "pip install tensorflow==1.15.0"
   ]
  },
  {
   "cell_type": "code",
   "execution_count": null,
   "metadata": {},
   "outputs": [],
   "source": [
    "# download my environment and overwrite the CarRacing files as indicated\n",
    "https://github.com/pleslabay/CarRacing-mod\n"
   ]
  }
 ],
 "metadata": {
  "kernelspec": {
   "display_name": "Python 3",
   "language": "python",
   "name": "python3"
  },
  "language_info": {
   "codemirror_mode": {
    "name": "ipython",
    "version": 3
   },
   "file_extension": ".py",
   "mimetype": "text/x-python",
   "name": "python",
   "nbconvert_exporter": "python",
   "pygments_lexer": "ipython3",
   "version": "3.6.12"
  }
 },
 "nbformat": 4,
 "nbformat_minor": 4
}
